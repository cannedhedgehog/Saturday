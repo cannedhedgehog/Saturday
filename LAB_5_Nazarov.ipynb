{
  "nbformat": 4,
  "nbformat_minor": 0,
  "metadata": {
    "colab": {
      "provenance": [],
      "authorship_tag": "ABX9TyPle/CXlsVXcfZwEjt2hmB2",
      "include_colab_link": true
    },
    "kernelspec": {
      "name": "python3",
      "display_name": "Python 3"
    },
    "language_info": {
      "name": "python"
    }
  },
  "cells": [
    {
      "cell_type": "markdown",
      "metadata": {
        "id": "view-in-github",
        "colab_type": "text"
      },
      "source": [
        "<a href=\"https://colab.research.google.com/github/cannedhedgehog/Saturday/blob/main/LAB_5_Nazarov.ipynb\" target=\"_parent\"><img src=\"https://colab.research.google.com/assets/colab-badge.svg\" alt=\"Open In Colab\"/></a>"
      ]
    },
    {
      "cell_type": "code",
      "execution_count": 3,
      "metadata": {
        "colab": {
          "base_uri": "https://localhost:8080/"
        },
        "id": "rQkfqV1VekPb",
        "outputId": "f7a37ad9-af62-494c-ad77-84014f0eb515"
      },
      "outputs": [
        {
          "output_type": "stream",
          "name": "stdout",
          "text": [
            "Requirement already satisfied: tensorflow in /usr/local/lib/python3.12/dist-packages (2.19.0)\n",
            "Requirement already satisfied: absl-py>=1.0.0 in /usr/local/lib/python3.12/dist-packages (from tensorflow) (1.4.0)\n",
            "Requirement already satisfied: astunparse>=1.6.0 in /usr/local/lib/python3.12/dist-packages (from tensorflow) (1.6.3)\n",
            "Requirement already satisfied: flatbuffers>=24.3.25 in /usr/local/lib/python3.12/dist-packages (from tensorflow) (25.9.23)\n",
            "Requirement already satisfied: gast!=0.5.0,!=0.5.1,!=0.5.2,>=0.2.1 in /usr/local/lib/python3.12/dist-packages (from tensorflow) (0.6.0)\n",
            "Requirement already satisfied: google-pasta>=0.1.1 in /usr/local/lib/python3.12/dist-packages (from tensorflow) (0.2.0)\n",
            "Requirement already satisfied: libclang>=13.0.0 in /usr/local/lib/python3.12/dist-packages (from tensorflow) (18.1.1)\n",
            "Requirement already satisfied: opt-einsum>=2.3.2 in /usr/local/lib/python3.12/dist-packages (from tensorflow) (3.4.0)\n",
            "Requirement already satisfied: packaging in /usr/local/lib/python3.12/dist-packages (from tensorflow) (25.0)\n",
            "Requirement already satisfied: protobuf!=4.21.0,!=4.21.1,!=4.21.2,!=4.21.3,!=4.21.4,!=4.21.5,<6.0.0dev,>=3.20.3 in /usr/local/lib/python3.12/dist-packages (from tensorflow) (5.29.5)\n",
            "Requirement already satisfied: requests<3,>=2.21.0 in /usr/local/lib/python3.12/dist-packages (from tensorflow) (2.32.4)\n",
            "Requirement already satisfied: setuptools in /usr/local/lib/python3.12/dist-packages (from tensorflow) (75.2.0)\n",
            "Requirement already satisfied: six>=1.12.0 in /usr/local/lib/python3.12/dist-packages (from tensorflow) (1.17.0)\n",
            "Requirement already satisfied: termcolor>=1.1.0 in /usr/local/lib/python3.12/dist-packages (from tensorflow) (3.1.0)\n",
            "Requirement already satisfied: typing-extensions>=3.6.6 in /usr/local/lib/python3.12/dist-packages (from tensorflow) (4.15.0)\n",
            "Requirement already satisfied: wrapt>=1.11.0 in /usr/local/lib/python3.12/dist-packages (from tensorflow) (2.0.0)\n",
            "Requirement already satisfied: grpcio<2.0,>=1.24.3 in /usr/local/lib/python3.12/dist-packages (from tensorflow) (1.75.1)\n",
            "Requirement already satisfied: tensorboard~=2.19.0 in /usr/local/lib/python3.12/dist-packages (from tensorflow) (2.19.0)\n",
            "Requirement already satisfied: keras>=3.5.0 in /usr/local/lib/python3.12/dist-packages (from tensorflow) (3.10.0)\n",
            "Requirement already satisfied: numpy<2.2.0,>=1.26.0 in /usr/local/lib/python3.12/dist-packages (from tensorflow) (2.0.2)\n",
            "Requirement already satisfied: h5py>=3.11.0 in /usr/local/lib/python3.12/dist-packages (from tensorflow) (3.15.1)\n",
            "Requirement already satisfied: ml-dtypes<1.0.0,>=0.5.1 in /usr/local/lib/python3.12/dist-packages (from tensorflow) (0.5.3)\n",
            "Requirement already satisfied: wheel<1.0,>=0.23.0 in /usr/local/lib/python3.12/dist-packages (from astunparse>=1.6.0->tensorflow) (0.45.1)\n",
            "Requirement already satisfied: rich in /usr/local/lib/python3.12/dist-packages (from keras>=3.5.0->tensorflow) (13.9.4)\n",
            "Requirement already satisfied: namex in /usr/local/lib/python3.12/dist-packages (from keras>=3.5.0->tensorflow) (0.1.0)\n",
            "Requirement already satisfied: optree in /usr/local/lib/python3.12/dist-packages (from keras>=3.5.0->tensorflow) (0.17.0)\n",
            "Requirement already satisfied: charset_normalizer<4,>=2 in /usr/local/lib/python3.12/dist-packages (from requests<3,>=2.21.0->tensorflow) (3.4.4)\n",
            "Requirement already satisfied: idna<4,>=2.5 in /usr/local/lib/python3.12/dist-packages (from requests<3,>=2.21.0->tensorflow) (3.11)\n",
            "Requirement already satisfied: urllib3<3,>=1.21.1 in /usr/local/lib/python3.12/dist-packages (from requests<3,>=2.21.0->tensorflow) (2.5.0)\n",
            "Requirement already satisfied: certifi>=2017.4.17 in /usr/local/lib/python3.12/dist-packages (from requests<3,>=2.21.0->tensorflow) (2025.10.5)\n",
            "Requirement already satisfied: markdown>=2.6.8 in /usr/local/lib/python3.12/dist-packages (from tensorboard~=2.19.0->tensorflow) (3.9)\n",
            "Requirement already satisfied: tensorboard-data-server<0.8.0,>=0.7.0 in /usr/local/lib/python3.12/dist-packages (from tensorboard~=2.19.0->tensorflow) (0.7.2)\n",
            "Requirement already satisfied: werkzeug>=1.0.1 in /usr/local/lib/python3.12/dist-packages (from tensorboard~=2.19.0->tensorflow) (3.1.3)\n",
            "Requirement already satisfied: MarkupSafe>=2.1.1 in /usr/local/lib/python3.12/dist-packages (from werkzeug>=1.0.1->tensorboard~=2.19.0->tensorflow) (3.0.3)\n",
            "Requirement already satisfied: markdown-it-py>=2.2.0 in /usr/local/lib/python3.12/dist-packages (from rich->keras>=3.5.0->tensorflow) (4.0.0)\n",
            "Requirement already satisfied: pygments<3.0.0,>=2.13.0 in /usr/local/lib/python3.12/dist-packages (from rich->keras>=3.5.0->tensorflow) (2.19.2)\n",
            "Requirement already satisfied: mdurl~=0.1 in /usr/local/lib/python3.12/dist-packages (from markdown-it-py>=2.2.0->rich->keras>=3.5.0->tensorflow) (0.1.2)\n",
            "\u001b[31mERROR: Could not find a version that satisfies the requirement tensorflown (from versions: none)\u001b[0m\u001b[31m\n",
            "\u001b[0m\u001b[31mERROR: No matching distribution found for tensorflown\u001b[0m\u001b[31m\n",
            "\u001b[0m"
          ]
        }
      ],
      "source": [
        "!pip install tensorflow\n",
        "!pip install -q tensorflow\\n"
      ]
    },
    {
      "cell_type": "code",
      "source": [
        "import numpy as np\n",
        "import pandas as pd\n",
        "from sklearn.preprocessing import OneHotEncoder\n",
        "from sklearn.model_selection import train_test_split\n",
        "import matplotlib.pyplot as plt"
      ],
      "metadata": {
        "id": "6Kbp5vmzr4bW"
      },
      "execution_count": 6,
      "outputs": []
    },
    {
      "cell_type": "code",
      "source": [
        "# Попытка импортировать TensorFlow; в Colab он обычно уже установлен.\n",
        "try:\n",
        "    import tensorflow as tf\n",
        "    from tensorflow.keras.models import Sequential\n",
        "    from tensorflow.keras.layers import Dense\n",
        "except Exception as e:\n",
        "    raise RuntimeError(\n",
        "        \"TensorFlow не найден. В Colab запусти отдельно: !pip install -q tensorflow\\n\"\n",
        "        \"Затем перезапусти ячейку и повтори выполнение.\"\n",
        "    ) from e\n",
        "\n"
      ],
      "metadata": {
        "id": "hrVxbf6lr-oB"
      },
      "execution_count": 7,
      "outputs": []
    },
    {
      "cell_type": "code",
      "source": [
        "# 1) Исходные данные (вариант 24)\n",
        "data = {\n",
        " \"X\":[ 1.07910041, 1.26418443, 1.79719124,-0.13510557,-0.87775765, 2.27728294,\n",
        " 2.52716992,-0.04066587, 2.52084886, 0.51223924, 1.53124045, 2.44211382,\n",
        " 1.77909081, 0.12518035, 2.65865723, 2.76229219, 1.37053571, 1.73224727,\n",
        " 1.37258786,-0.05406908,-0.69533424, 1.33750211, 1.87366599, 0.55863035,\n",
        " 7.35815273, 7.73793501, 7.23852938, 7.68762325, 6.63204478, 6.7571293 ,\n",
        " 6.59617491, 7.77115836, 6.86164525, 8.0377943 , 7.01267429, 6.89123228,\n",
        " 7.88908759, 6.60494066, 7.53304854, 7.49695389, 6.8732534 , 6.9284834 ,\n",
        " 7.27971312, 7.12498764, 7.31619287, 7.36698462, 8.06048648, 7.65300671,\n",
        " 12.23968766,12.55201993,12.71486389,11.00497641,11.8382356 ,11.60347116,\n",
        " 13.25088605,12.09739165,11.74498511,11.9557703 ,12.45182932,12.56171074,\n",
        " 11.25384778,11.94631776,12.69711296,12.0660119 ,11.36745909,12.31382516,\n",
        " 12.14577052,12.36952088,11.88659255,12.28761409,12.28202909,12.04006003,\n",
        " 21.00608835,19.63172775,17.5845519 ,16.90848678,19.02497608,20.33953577,\n",
        " 18.96151205,21.37706544,18.88706138,18.66499707,18.07466724,17.96703948,\n",
        " 20.44070722,18.30427472,20.71658954,18.90233466,17.82812318,17.8806932 ,\n",
        " 20.21456032,19.10970739,18.86861823,19.95440989,20.85898549,21.8345089 ],\n",
        " \"Y\":[ 5.25323192, 4.85699637, 4.68267124, 4.40382523, 5.09004093, 5.0504258 ,\n",
        " 5.27755021, 5.35470365, 4.54062376, 5.33156519, 5.14185334, 5.40827282,\n",
        " 5.53779725, 4.7962278 , 5.16438827, 5.31073441, 4.95965643, 5.1538492 ,\n",
        " 5.37307749, 4.41818472, 4.85440761, 5.64959051, 4.51629939, 5.17707686,\n",
        " 0.87108474, 1.10771465, 0.87942502, 1.4949947 , 1.84132226, 1.13043957,\n",
        " 1.16959057, 1.98428207, 2.01459613, 2.10409526, 1.50387267, 1.49943986,\n",
        " 1.56168723, 0.53174655, 1.01971074, 1.03036494, 2.13167888, 1.70790629,\n",
        " 1.38385201, 1.24431517, 1.32091454, 1.60587509, 1.29348401, 2.4444294 ,\n",
        " 9.75011853,10.2409965 , 8.98298373, 7.47859701, 7.99039216, 7.25565433,\n",
        " 9.59422745, 9.28666415, 9.12320212,10.29000082,10.19387231,11.35278271,\n",
        " 11.23148741, 7.92190567, 8.63199449, 9.0406852 , 9.69735502, 9.29703678,\n",
        " 9.33825042, 9.17973078,12.28920836, 8.98241985, 9.87359891, 8.26566899,\n",
        " 17.54553388,17.45769399,17.593418 ,16.71675034,15.63632138,17.98829384,\n",
        " 16.45873981,18.34272836,18.03375472,16.66444327,17.08510143,16.54054003,\n",
        " 18.0951442 ,18.59687419,18.87264202,14.35947004,14.35702589,17.84807822,\n",
        " 16.94827249,19.42231436,16.79675 ,15.58001527,15.71261502,16.14614386],\n",
        " \"class\":['Gr1', 'Gr1', 'Gr1', 'Gr1', 'Gr1', 'Gr1', 'Gr1', 'Gr1', 'Gr1', 'Gr1', 'Gr1', 'Gr1', 'Gr1', 'Gr1', 'Gr1', 'Gr1', 'Gr1', 'Gr1', 'Gr1', 'Gr1', 'Gr1', 'Gr1', 'Gr1', 'Gr1', 'Gr2', 'Gr2', 'Gr2', 'Gr2', 'Gr2', 'Gr2', 'Gr2', 'Gr2', 'Gr2', 'Gr2', 'Gr2', 'Gr2', 'Gr2', 'Gr2', 'Gr2', 'Gr2', 'Gr2', 'Gr2', 'Gr2', 'Gr2', 'Gr2', 'Gr2', 'Gr2', 'Gr2', 'Gr3', 'Gr3', 'Gr3', 'Gr3', 'Gr3', 'Gr3', 'Gr3', 'Gr3', 'Gr3', 'Gr3', 'Gr3', 'Gr3', 'Gr3', 'Gr3', 'Gr3', 'Gr3', 'Gr3', 'Gr3', 'Gr3', 'Gr3', 'Gr3', 'Gr3', 'Gr3', 'Gr3', 'Gr4', 'Gr4', 'Gr4', 'Gr4', 'Gr4', 'Gr4', 'Gr4', 'Gr4', 'Gr4', 'Gr4', 'Gr4', 'Gr4', 'Gr4', 'Gr4', 'Gr4', 'Gr4', 'Gr4', 'Gr4', 'Gr4', 'Gr4', 'Gr4', 'Gr4', 'Gr4', 'Gr4']\n",
        "}\n"
      ],
      "metadata": {
        "id": "b1fKyzNgsC0U"
      },
      "execution_count": 8,
      "outputs": []
    },
    {
      "cell_type": "code",
      "source": [
        "# 2) Предобработка\n",
        "df = pd.DataFrame(data)\n",
        "\n",
        "# 1) входы X (2 колонки) и выходы class\n",
        "X = np.c_[df[\"X\"].values, df[\"Y\"].values]\n",
        "\n",
        "# 2) нормирование входов\n",
        "xmin = np.min(X)\n",
        "xmax = np.max(X)\n",
        "Xnorm = (X - xmin) / (xmax - xmin)\n",
        "\n",
        "# 3) One-Hot кодирование выходов\n",
        "ohe = OneHotEncoder(sparse_output=False)\n",
        "Yenc = ohe.fit_transform(np.array(df[\"class\"]).reshape(-1, 1))\n",
        "\n",
        "# Проверка форм\n",
        "print(f\"Форма тензора X: {Xnorm.shape}\")\n",
        "print(f\"Форма тензора Y: {Yenc.shape}\")\n",
        "\n",
        "# 4) Разделение на обучающую и тестовую выборки\n",
        "xTrain, xTest, yTrain, yTest = train_test_split(Xnorm, Yenc, test_size=0.25, random_state=42, stratify=Yenc)\n",
        "print(f\"Форма тензора Xtrain: {xTrain.shape}\")\n",
        "print(f\"Форма тензора Ytrain: {yTrain.shape}\")\n",
        "print(f\"Форма тензора Xtest: {xTest.shape}\")\n",
        "print(f\"Форма тензора Ytest: {yTest.shape}\")"
      ],
      "metadata": {
        "colab": {
          "base_uri": "https://localhost:8080/"
        },
        "id": "P9WiogTosdyU",
        "outputId": "2be08992-fa3a-4e69-eb31-c368bdb55b50"
      },
      "execution_count": 9,
      "outputs": [
        {
          "output_type": "stream",
          "name": "stdout",
          "text": [
            "Форма тензора X: (96, 2)\n",
            "Форма тензора Y: (96, 4)\n",
            "Форма тензора Xtrain: (72, 2)\n",
            "Форма тензора Ytrain: (72, 4)\n",
            "Форма тензора Xtest: (24, 2)\n",
            "Форма тензора Ytest: (24, 4)\n"
          ]
        }
      ]
    },
    {
      "cell_type": "code",
      "source": [
        "# 3) Нейронная сеть (Keras)\n",
        "model = Sequential([\n",
        "    Dense(units=4, activation=\"relu\", input_shape=(2,)),\n",
        "    Dense(units=4, activation=\"relu\"),\n",
        "    Dense(units=yTrain.shape[1], activation=\"softmax\")  # softmax для многоклассовой классификации\n",
        "])\n",
        "\n",
        "model.compile(optimizer=\"adam\", loss=\"categorical_crossentropy\", metrics=[\"categorical_accuracy\"])\n",
        "model.summary()\n",
        "# 4) Обучение\n",
        "hist = model.fit(x=xTrain, y=yTrain, epochs=80, batch_size=10, verbose=1)"
      ],
      "metadata": {
        "colab": {
          "base_uri": "https://localhost:8080/",
          "height": 1000
        },
        "id": "k4p_bJyjslhJ",
        "outputId": "559279a3-e792-4a5f-9e73-7ce579f5ebfa"
      },
      "execution_count": 10,
      "outputs": [
        {
          "output_type": "stream",
          "name": "stderr",
          "text": [
            "/usr/local/lib/python3.12/dist-packages/keras/src/layers/core/dense.py:93: UserWarning: Do not pass an `input_shape`/`input_dim` argument to a layer. When using Sequential models, prefer using an `Input(shape)` object as the first layer in the model instead.\n",
            "  super().__init__(activity_regularizer=activity_regularizer, **kwargs)\n"
          ]
        },
        {
          "output_type": "display_data",
          "data": {
            "text/plain": [
              "\u001b[1mModel: \"sequential_1\"\u001b[0m\n"
            ],
            "text/html": [
              "<pre style=\"white-space:pre;overflow-x:auto;line-height:normal;font-family:Menlo,'DejaVu Sans Mono',consolas,'Courier New',monospace\"><span style=\"font-weight: bold\">Model: \"sequential_1\"</span>\n",
              "</pre>\n"
            ]
          },
          "metadata": {}
        },
        {
          "output_type": "display_data",
          "data": {
            "text/plain": [
              "┏━━━━━━━━━━━━━━━━━━━━━━━━━━━━━━━━━┳━━━━━━━━━━━━━━━━━━━━━━━━┳━━━━━━━━━━━━━━━┓\n",
              "┃\u001b[1m \u001b[0m\u001b[1mLayer (type)                   \u001b[0m\u001b[1m \u001b[0m┃\u001b[1m \u001b[0m\u001b[1mOutput Shape          \u001b[0m\u001b[1m \u001b[0m┃\u001b[1m \u001b[0m\u001b[1m      Param #\u001b[0m\u001b[1m \u001b[0m┃\n",
              "┡━━━━━━━━━━━━━━━━━━━━━━━━━━━━━━━━━╇━━━━━━━━━━━━━━━━━━━━━━━━╇━━━━━━━━━━━━━━━┩\n",
              "│ dense_3 (\u001b[38;5;33mDense\u001b[0m)                 │ (\u001b[38;5;45mNone\u001b[0m, \u001b[38;5;34m4\u001b[0m)              │            \u001b[38;5;34m12\u001b[0m │\n",
              "├─────────────────────────────────┼────────────────────────┼───────────────┤\n",
              "│ dense_4 (\u001b[38;5;33mDense\u001b[0m)                 │ (\u001b[38;5;45mNone\u001b[0m, \u001b[38;5;34m4\u001b[0m)              │            \u001b[38;5;34m20\u001b[0m │\n",
              "├─────────────────────────────────┼────────────────────────┼───────────────┤\n",
              "│ dense_5 (\u001b[38;5;33mDense\u001b[0m)                 │ (\u001b[38;5;45mNone\u001b[0m, \u001b[38;5;34m4\u001b[0m)              │            \u001b[38;5;34m20\u001b[0m │\n",
              "└─────────────────────────────────┴────────────────────────┴───────────────┘\n"
            ],
            "text/html": [
              "<pre style=\"white-space:pre;overflow-x:auto;line-height:normal;font-family:Menlo,'DejaVu Sans Mono',consolas,'Courier New',monospace\">┏━━━━━━━━━━━━━━━━━━━━━━━━━━━━━━━━━┳━━━━━━━━━━━━━━━━━━━━━━━━┳━━━━━━━━━━━━━━━┓\n",
              "┃<span style=\"font-weight: bold\"> Layer (type)                    </span>┃<span style=\"font-weight: bold\"> Output Shape           </span>┃<span style=\"font-weight: bold\">       Param # </span>┃\n",
              "┡━━━━━━━━━━━━━━━━━━━━━━━━━━━━━━━━━╇━━━━━━━━━━━━━━━━━━━━━━━━╇━━━━━━━━━━━━━━━┩\n",
              "│ dense_3 (<span style=\"color: #0087ff; text-decoration-color: #0087ff\">Dense</span>)                 │ (<span style=\"color: #00d7ff; text-decoration-color: #00d7ff\">None</span>, <span style=\"color: #00af00; text-decoration-color: #00af00\">4</span>)              │            <span style=\"color: #00af00; text-decoration-color: #00af00\">12</span> │\n",
              "├─────────────────────────────────┼────────────────────────┼───────────────┤\n",
              "│ dense_4 (<span style=\"color: #0087ff; text-decoration-color: #0087ff\">Dense</span>)                 │ (<span style=\"color: #00d7ff; text-decoration-color: #00d7ff\">None</span>, <span style=\"color: #00af00; text-decoration-color: #00af00\">4</span>)              │            <span style=\"color: #00af00; text-decoration-color: #00af00\">20</span> │\n",
              "├─────────────────────────────────┼────────────────────────┼───────────────┤\n",
              "│ dense_5 (<span style=\"color: #0087ff; text-decoration-color: #0087ff\">Dense</span>)                 │ (<span style=\"color: #00d7ff; text-decoration-color: #00d7ff\">None</span>, <span style=\"color: #00af00; text-decoration-color: #00af00\">4</span>)              │            <span style=\"color: #00af00; text-decoration-color: #00af00\">20</span> │\n",
              "└─────────────────────────────────┴────────────────────────┴───────────────┘\n",
              "</pre>\n"
            ]
          },
          "metadata": {}
        },
        {
          "output_type": "display_data",
          "data": {
            "text/plain": [
              "\u001b[1m Total params: \u001b[0m\u001b[38;5;34m52\u001b[0m (208.00 B)\n"
            ],
            "text/html": [
              "<pre style=\"white-space:pre;overflow-x:auto;line-height:normal;font-family:Menlo,'DejaVu Sans Mono',consolas,'Courier New',monospace\"><span style=\"font-weight: bold\"> Total params: </span><span style=\"color: #00af00; text-decoration-color: #00af00\">52</span> (208.00 B)\n",
              "</pre>\n"
            ]
          },
          "metadata": {}
        },
        {
          "output_type": "display_data",
          "data": {
            "text/plain": [
              "\u001b[1m Trainable params: \u001b[0m\u001b[38;5;34m52\u001b[0m (208.00 B)\n"
            ],
            "text/html": [
              "<pre style=\"white-space:pre;overflow-x:auto;line-height:normal;font-family:Menlo,'DejaVu Sans Mono',consolas,'Courier New',monospace\"><span style=\"font-weight: bold\"> Trainable params: </span><span style=\"color: #00af00; text-decoration-color: #00af00\">52</span> (208.00 B)\n",
              "</pre>\n"
            ]
          },
          "metadata": {}
        },
        {
          "output_type": "display_data",
          "data": {
            "text/plain": [
              "\u001b[1m Non-trainable params: \u001b[0m\u001b[38;5;34m0\u001b[0m (0.00 B)\n"
            ],
            "text/html": [
              "<pre style=\"white-space:pre;overflow-x:auto;line-height:normal;font-family:Menlo,'DejaVu Sans Mono',consolas,'Courier New',monospace\"><span style=\"font-weight: bold\"> Non-trainable params: </span><span style=\"color: #00af00; text-decoration-color: #00af00\">0</span> (0.00 B)\n",
              "</pre>\n"
            ]
          },
          "metadata": {}
        },
        {
          "output_type": "stream",
          "name": "stdout",
          "text": [
            "Epoch 1/80\n",
            "\u001b[1m8/8\u001b[0m \u001b[32m━━━━━━━━━━━━━━━━━━━━\u001b[0m\u001b[37m\u001b[0m \u001b[1m1s\u001b[0m 4ms/step - categorical_accuracy: 0.1957 - loss: 1.4199  \n",
            "Epoch 2/80\n",
            "\u001b[1m8/8\u001b[0m \u001b[32m━━━━━━━━━━━━━━━━━━━━\u001b[0m\u001b[37m\u001b[0m \u001b[1m0s\u001b[0m 4ms/step - categorical_accuracy: 0.2532 - loss: 1.4050 \n",
            "Epoch 3/80\n",
            "\u001b[1m8/8\u001b[0m \u001b[32m━━━━━━━━━━━━━━━━━━━━\u001b[0m\u001b[37m\u001b[0m \u001b[1m0s\u001b[0m 4ms/step - categorical_accuracy: 0.2207 - loss: 1.4140     \n",
            "Epoch 4/80\n",
            "\u001b[1m8/8\u001b[0m \u001b[32m━━━━━━━━━━━━━━━━━━━━\u001b[0m\u001b[37m\u001b[0m \u001b[1m0s\u001b[0m 4ms/step - categorical_accuracy: 0.2506 - loss: 1.3920 \n",
            "Epoch 5/80\n",
            "\u001b[1m8/8\u001b[0m \u001b[32m━━━━━━━━━━━━━━━━━━━━\u001b[0m\u001b[37m\u001b[0m \u001b[1m0s\u001b[0m 7ms/step - categorical_accuracy: 0.2899 - loss: 1.3916 \n",
            "Epoch 6/80\n",
            "\u001b[1m8/8\u001b[0m \u001b[32m━━━━━━━━━━━━━━━━━━━━\u001b[0m\u001b[37m\u001b[0m \u001b[1m0s\u001b[0m 4ms/step - categorical_accuracy: 0.2451 - loss: 1.3933 \n",
            "Epoch 7/80\n",
            "\u001b[1m8/8\u001b[0m \u001b[32m━━━━━━━━━━━━━━━━━━━━\u001b[0m\u001b[37m\u001b[0m \u001b[1m0s\u001b[0m 5ms/step - categorical_accuracy: 0.2738 - loss: 1.3810 \n",
            "Epoch 8/80\n",
            "\u001b[1m8/8\u001b[0m \u001b[32m━━━━━━━━━━━━━━━━━━━━\u001b[0m\u001b[37m\u001b[0m \u001b[1m0s\u001b[0m 4ms/step - categorical_accuracy: 0.2432 - loss: 1.3845 \n",
            "Epoch 9/80\n",
            "\u001b[1m8/8\u001b[0m \u001b[32m━━━━━━━━━━━━━━━━━━━━\u001b[0m\u001b[37m\u001b[0m \u001b[1m0s\u001b[0m 4ms/step - categorical_accuracy: 0.2796 - loss: 1.3737 \n",
            "Epoch 10/80\n",
            "\u001b[1m8/8\u001b[0m \u001b[32m━━━━━━━━━━━━━━━━━━━━\u001b[0m\u001b[37m\u001b[0m \u001b[1m0s\u001b[0m 5ms/step - categorical_accuracy: 0.2597 - loss: 1.3752 \n",
            "Epoch 11/80\n",
            "\u001b[1m8/8\u001b[0m \u001b[32m━━━━━━━━━━━━━━━━━━━━\u001b[0m\u001b[37m\u001b[0m \u001b[1m0s\u001b[0m 5ms/step - categorical_accuracy: 0.2197 - loss: 1.3744 \n",
            "Epoch 12/80\n",
            "\u001b[1m8/8\u001b[0m \u001b[32m━━━━━━━━━━━━━━━━━━━━\u001b[0m\u001b[37m\u001b[0m \u001b[1m0s\u001b[0m 4ms/step - categorical_accuracy: 0.2473 - loss: 1.3785 \n",
            "Epoch 13/80\n",
            "\u001b[1m8/8\u001b[0m \u001b[32m━━━━━━━━━━━━━━━━━━━━\u001b[0m\u001b[37m\u001b[0m \u001b[1m0s\u001b[0m 5ms/step - categorical_accuracy: 0.3057 - loss: 1.3571 \n",
            "Epoch 14/80\n",
            "\u001b[1m8/8\u001b[0m \u001b[32m━━━━━━━━━━━━━━━━━━━━\u001b[0m\u001b[37m\u001b[0m \u001b[1m0s\u001b[0m 5ms/step - categorical_accuracy: 0.2476 - loss: 1.3653 \n",
            "Epoch 15/80\n",
            "\u001b[1m8/8\u001b[0m \u001b[32m━━━━━━━━━━━━━━━━━━━━\u001b[0m\u001b[37m\u001b[0m \u001b[1m0s\u001b[0m 5ms/step - categorical_accuracy: 0.3097 - loss: 1.3534 \n",
            "Epoch 16/80\n",
            "\u001b[1m8/8\u001b[0m \u001b[32m━━━━━━━━━━━━━━━━━━━━\u001b[0m\u001b[37m\u001b[0m \u001b[1m0s\u001b[0m 6ms/step - categorical_accuracy: 0.2884 - loss: 1.3512 \n",
            "Epoch 17/80\n",
            "\u001b[1m8/8\u001b[0m \u001b[32m━━━━━━━━━━━━━━━━━━━━\u001b[0m\u001b[37m\u001b[0m \u001b[1m0s\u001b[0m 6ms/step - categorical_accuracy: 0.2719 - loss: 1.3459 \n",
            "Epoch 18/80\n",
            "\u001b[1m8/8\u001b[0m \u001b[32m━━━━━━━━━━━━━━━━━━━━\u001b[0m\u001b[37m\u001b[0m \u001b[1m0s\u001b[0m 5ms/step - categorical_accuracy: 0.2811 - loss: 1.3498 \n",
            "Epoch 19/80\n",
            "\u001b[1m8/8\u001b[0m \u001b[32m━━━━━━━━━━━━━━━━━━━━\u001b[0m\u001b[37m\u001b[0m \u001b[1m0s\u001b[0m 5ms/step - categorical_accuracy: 0.3060 - loss: 1.3484 \n",
            "Epoch 20/80\n",
            "\u001b[1m8/8\u001b[0m \u001b[32m━━━━━━━━━━━━━━━━━━━━\u001b[0m\u001b[37m\u001b[0m \u001b[1m0s\u001b[0m 4ms/step - categorical_accuracy: 0.3075 - loss: 1.3417 \n",
            "Epoch 21/80\n",
            "\u001b[1m8/8\u001b[0m \u001b[32m━━━━━━━━━━━━━━━━━━━━\u001b[0m\u001b[37m\u001b[0m \u001b[1m0s\u001b[0m 5ms/step - categorical_accuracy: 0.4334 - loss: 1.3426 \n",
            "Epoch 22/80\n",
            "\u001b[1m8/8\u001b[0m \u001b[32m━━━━━━━━━━━━━━━━━━━━\u001b[0m\u001b[37m\u001b[0m \u001b[1m0s\u001b[0m 5ms/step - categorical_accuracy: 0.4736 - loss: 1.3326  \n",
            "Epoch 23/80\n",
            "\u001b[1m8/8\u001b[0m \u001b[32m━━━━━━━━━━━━━━━━━━━━\u001b[0m\u001b[37m\u001b[0m \u001b[1m0s\u001b[0m 4ms/step - categorical_accuracy: 0.5185 - loss: 1.3250 \n",
            "Epoch 24/80\n",
            "\u001b[1m8/8\u001b[0m \u001b[32m━━━━━━━━━━━━━━━━━━━━\u001b[0m\u001b[37m\u001b[0m \u001b[1m0s\u001b[0m 4ms/step - categorical_accuracy: 0.6329 - loss: 1.3164 \n",
            "Epoch 25/80\n",
            "\u001b[1m8/8\u001b[0m \u001b[32m━━━━━━━━━━━━━━━━━━━━\u001b[0m\u001b[37m\u001b[0m \u001b[1m0s\u001b[0m 4ms/step - categorical_accuracy: 0.6516 - loss: 1.3241 \n",
            "Epoch 26/80\n",
            "\u001b[1m8/8\u001b[0m \u001b[32m━━━━━━━━━━━━━━━━━━━━\u001b[0m\u001b[37m\u001b[0m \u001b[1m0s\u001b[0m 5ms/step - categorical_accuracy: 0.6635 - loss: 1.3123 \n",
            "Epoch 27/80\n",
            "\u001b[1m8/8\u001b[0m \u001b[32m━━━━━━━━━━━━━━━━━━━━\u001b[0m\u001b[37m\u001b[0m \u001b[1m0s\u001b[0m 4ms/step - categorical_accuracy: 0.6411 - loss: 1.3102 \n",
            "Epoch 28/80\n",
            "\u001b[1m8/8\u001b[0m \u001b[32m━━━━━━━━━━━━━━━━━━━━\u001b[0m\u001b[37m\u001b[0m \u001b[1m0s\u001b[0m 5ms/step - categorical_accuracy: 0.6377 - loss: 1.3141 \n",
            "Epoch 29/80\n",
            "\u001b[1m8/8\u001b[0m \u001b[32m━━━━━━━━━━━━━━━━━━━━\u001b[0m\u001b[37m\u001b[0m \u001b[1m0s\u001b[0m 4ms/step - categorical_accuracy: 0.6884 - loss: 1.2992 \n",
            "Epoch 30/80\n",
            "\u001b[1m8/8\u001b[0m \u001b[32m━━━━━━━━━━━━━━━━━━━━\u001b[0m\u001b[37m\u001b[0m \u001b[1m0s\u001b[0m 4ms/step - categorical_accuracy: 0.7301 - loss: 1.2952 \n",
            "Epoch 31/80\n",
            "\u001b[1m8/8\u001b[0m \u001b[32m━━━━━━━━━━━━━━━━━━━━\u001b[0m\u001b[37m\u001b[0m \u001b[1m0s\u001b[0m 4ms/step - categorical_accuracy: 0.7064 - loss: 1.2970 \n",
            "Epoch 32/80\n",
            "\u001b[1m8/8\u001b[0m \u001b[32m━━━━━━━━━━━━━━━━━━━━\u001b[0m\u001b[37m\u001b[0m \u001b[1m0s\u001b[0m 4ms/step - categorical_accuracy: 0.7057 - loss: 1.2958 \n",
            "Epoch 33/80\n",
            "\u001b[1m8/8\u001b[0m \u001b[32m━━━━━━━━━━━━━━━━━━━━\u001b[0m\u001b[37m\u001b[0m \u001b[1m0s\u001b[0m 5ms/step - categorical_accuracy: 0.7351 - loss: 1.2876 \n",
            "Epoch 34/80\n",
            "\u001b[1m8/8\u001b[0m \u001b[32m━━━━━━━━━━━━━━━━━━━━\u001b[0m\u001b[37m\u001b[0m \u001b[1m0s\u001b[0m 5ms/step - categorical_accuracy: 0.7698 - loss: 1.2734 \n",
            "Epoch 35/80\n",
            "\u001b[1m8/8\u001b[0m \u001b[32m━━━━━━━━━━━━━━━━━━━━\u001b[0m\u001b[37m\u001b[0m \u001b[1m0s\u001b[0m 6ms/step - categorical_accuracy: 0.7589 - loss: 1.2715 \n",
            "Epoch 36/80\n",
            "\u001b[1m8/8\u001b[0m \u001b[32m━━━━━━━━━━━━━━━━━━━━\u001b[0m\u001b[37m\u001b[0m \u001b[1m0s\u001b[0m 6ms/step - categorical_accuracy: 0.7283 - loss: 1.2728 \n",
            "Epoch 37/80\n",
            "\u001b[1m8/8\u001b[0m \u001b[32m━━━━━━━━━━━━━━━━━━━━\u001b[0m\u001b[37m\u001b[0m \u001b[1m0s\u001b[0m 6ms/step - categorical_accuracy: 0.7244 - loss: 1.2608 \n",
            "Epoch 38/80\n",
            "\u001b[1m8/8\u001b[0m \u001b[32m━━━━━━━━━━━━━━━━━━━━\u001b[0m\u001b[37m\u001b[0m \u001b[1m0s\u001b[0m 5ms/step - categorical_accuracy: 0.7486 - loss: 1.2616 \n",
            "Epoch 39/80\n",
            "\u001b[1m8/8\u001b[0m \u001b[32m━━━━━━━━━━━━━━━━━━━━\u001b[0m\u001b[37m\u001b[0m \u001b[1m0s\u001b[0m 4ms/step - categorical_accuracy: 0.6751 - loss: 1.2483 \n",
            "Epoch 40/80\n",
            "\u001b[1m8/8\u001b[0m \u001b[32m━━━━━━━━━━━━━━━━━━━━\u001b[0m\u001b[37m\u001b[0m \u001b[1m0s\u001b[0m 5ms/step - categorical_accuracy: 0.6979 - loss: 1.2473 \n",
            "Epoch 41/80\n",
            "\u001b[1m8/8\u001b[0m \u001b[32m━━━━━━━━━━━━━━━━━━━━\u001b[0m\u001b[37m\u001b[0m \u001b[1m0s\u001b[0m 5ms/step - categorical_accuracy: 0.7287 - loss: 1.2479 \n",
            "Epoch 42/80\n",
            "\u001b[1m8/8\u001b[0m \u001b[32m━━━━━━━━━━━━━━━━━━━━\u001b[0m\u001b[37m\u001b[0m \u001b[1m0s\u001b[0m 4ms/step - categorical_accuracy: 0.7045 - loss: 1.2509 \n",
            "Epoch 43/80\n",
            "\u001b[1m8/8\u001b[0m \u001b[32m━━━━━━━━━━━━━━━━━━━━\u001b[0m\u001b[37m\u001b[0m \u001b[1m0s\u001b[0m 5ms/step - categorical_accuracy: 0.7519 - loss: 1.2279 \n",
            "Epoch 44/80\n",
            "\u001b[1m8/8\u001b[0m \u001b[32m━━━━━━━━━━━━━━━━━━━━\u001b[0m\u001b[37m\u001b[0m \u001b[1m0s\u001b[0m 5ms/step - categorical_accuracy: 0.7481 - loss: 1.2097 \n",
            "Epoch 45/80\n",
            "\u001b[1m8/8\u001b[0m \u001b[32m━━━━━━━━━━━━━━━━━━━━\u001b[0m\u001b[37m\u001b[0m \u001b[1m0s\u001b[0m 5ms/step - categorical_accuracy: 0.7412 - loss: 1.2076 \n",
            "Epoch 46/80\n",
            "\u001b[1m8/8\u001b[0m \u001b[32m━━━━━━━━━━━━━━━━━━━━\u001b[0m\u001b[37m\u001b[0m \u001b[1m0s\u001b[0m 5ms/step - categorical_accuracy: 0.7274 - loss: 1.2201 \n",
            "Epoch 47/80\n",
            "\u001b[1m8/8\u001b[0m \u001b[32m━━━━━━━━━━━━━━━━━━━━\u001b[0m\u001b[37m\u001b[0m \u001b[1m0s\u001b[0m 5ms/step - categorical_accuracy: 0.6511 - loss: 1.2115 \n",
            "Epoch 48/80\n",
            "\u001b[1m8/8\u001b[0m \u001b[32m━━━━━━━━━━━━━━━━━━━━\u001b[0m\u001b[37m\u001b[0m \u001b[1m0s\u001b[0m 5ms/step - categorical_accuracy: 0.6678 - loss: 1.2037 \n",
            "Epoch 49/80\n",
            "\u001b[1m8/8\u001b[0m \u001b[32m━━━━━━━━━━━━━━━━━━━━\u001b[0m\u001b[37m\u001b[0m \u001b[1m0s\u001b[0m 5ms/step - categorical_accuracy: 0.7316 - loss: 1.1960 \n",
            "Epoch 50/80\n",
            "\u001b[1m8/8\u001b[0m \u001b[32m━━━━━━━━━━━━━━━━━━━━\u001b[0m\u001b[37m\u001b[0m \u001b[1m0s\u001b[0m 5ms/step - categorical_accuracy: 0.6712 - loss: 1.1947 \n",
            "Epoch 51/80\n",
            "\u001b[1m8/8\u001b[0m \u001b[32m━━━━━━━━━━━━━━━━━━━━\u001b[0m\u001b[37m\u001b[0m \u001b[1m0s\u001b[0m 5ms/step - categorical_accuracy: 0.7140 - loss: 1.1740 \n",
            "Epoch 52/80\n",
            "\u001b[1m8/8\u001b[0m \u001b[32m━━━━━━━━━━━━━━━━━━━━\u001b[0m\u001b[37m\u001b[0m \u001b[1m0s\u001b[0m 5ms/step - categorical_accuracy: 0.7681 - loss: 1.1678 \n",
            "Epoch 53/80\n",
            "\u001b[1m8/8\u001b[0m \u001b[32m━━━━━━━━━━━━━━━━━━━━\u001b[0m\u001b[37m\u001b[0m \u001b[1m0s\u001b[0m 7ms/step - categorical_accuracy: 0.7936 - loss: 1.1616 \n",
            "Epoch 54/80\n",
            "\u001b[1m8/8\u001b[0m \u001b[32m━━━━━━━━━━━━━━━━━━━━\u001b[0m\u001b[37m\u001b[0m \u001b[1m0s\u001b[0m 5ms/step - categorical_accuracy: 0.7649 - loss: 1.1600 \n",
            "Epoch 55/80\n",
            "\u001b[1m8/8\u001b[0m \u001b[32m━━━━━━━━━━━━━━━━━━━━\u001b[0m\u001b[37m\u001b[0m \u001b[1m0s\u001b[0m 5ms/step - categorical_accuracy: 0.7538 - loss: 1.1637 \n",
            "Epoch 56/80\n",
            "\u001b[1m8/8\u001b[0m \u001b[32m━━━━━━━━━━━━━━━━━━━━\u001b[0m\u001b[37m\u001b[0m \u001b[1m0s\u001b[0m 4ms/step - categorical_accuracy: 0.7433 - loss: 1.1619 \n",
            "Epoch 57/80\n",
            "\u001b[1m8/8\u001b[0m \u001b[32m━━━━━━━━━━━━━━━━━━━━\u001b[0m\u001b[37m\u001b[0m \u001b[1m0s\u001b[0m 5ms/step - categorical_accuracy: 0.6912 - loss: 1.1586 \n",
            "Epoch 58/80\n",
            "\u001b[1m8/8\u001b[0m \u001b[32m━━━━━━━━━━━━━━━━━━━━\u001b[0m\u001b[37m\u001b[0m \u001b[1m0s\u001b[0m 4ms/step - categorical_accuracy: 0.7503 - loss: 1.1362 \n",
            "Epoch 59/80\n",
            "\u001b[1m8/8\u001b[0m \u001b[32m━━━━━━━━━━━━━━━━━━━━\u001b[0m\u001b[37m\u001b[0m \u001b[1m0s\u001b[0m 5ms/step - categorical_accuracy: 0.7509 - loss: 1.1219 \n",
            "Epoch 60/80\n",
            "\u001b[1m8/8\u001b[0m \u001b[32m━━━━━━━━━━━━━━━━━━━━\u001b[0m\u001b[37m\u001b[0m \u001b[1m0s\u001b[0m 5ms/step - categorical_accuracy: 0.7913 - loss: 1.1033 \n",
            "Epoch 61/80\n",
            "\u001b[1m8/8\u001b[0m \u001b[32m━━━━━━━━━━━━━━━━━━━━\u001b[0m\u001b[37m\u001b[0m \u001b[1m0s\u001b[0m 4ms/step - categorical_accuracy: 0.7021 - loss: 1.1243 \n",
            "Epoch 62/80\n",
            "\u001b[1m8/8\u001b[0m \u001b[32m━━━━━━━━━━━━━━━━━━━━\u001b[0m\u001b[37m\u001b[0m \u001b[1m0s\u001b[0m 4ms/step - categorical_accuracy: 0.7166 - loss: 1.0951 \n",
            "Epoch 63/80\n",
            "\u001b[1m8/8\u001b[0m \u001b[32m━━━━━━━━━━━━━━━━━━━━\u001b[0m\u001b[37m\u001b[0m \u001b[1m0s\u001b[0m 4ms/step - categorical_accuracy: 0.7949 - loss: 1.1108 \n",
            "Epoch 64/80\n",
            "\u001b[1m8/8\u001b[0m \u001b[32m━━━━━━━━━━━━━━━━━━━━\u001b[0m\u001b[37m\u001b[0m \u001b[1m0s\u001b[0m 4ms/step - categorical_accuracy: 0.7425 - loss: 1.0829 \n",
            "Epoch 65/80\n",
            "\u001b[1m8/8\u001b[0m \u001b[32m━━━━━━━━━━━━━━━━━━━━\u001b[0m\u001b[37m\u001b[0m \u001b[1m0s\u001b[0m 5ms/step - categorical_accuracy: 0.7940 - loss: 1.0912 \n",
            "Epoch 66/80\n",
            "\u001b[1m8/8\u001b[0m \u001b[32m━━━━━━━━━━━━━━━━━━━━\u001b[0m\u001b[37m\u001b[0m \u001b[1m0s\u001b[0m 4ms/step - categorical_accuracy: 0.7694 - loss: 1.0694 \n",
            "Epoch 67/80\n",
            "\u001b[1m8/8\u001b[0m \u001b[32m━━━━━━━━━━━━━━━━━━━━\u001b[0m\u001b[37m\u001b[0m \u001b[1m0s\u001b[0m 4ms/step - categorical_accuracy: 0.7358 - loss: 1.0625 \n",
            "Epoch 68/80\n",
            "\u001b[1m8/8\u001b[0m \u001b[32m━━━━━━━━━━━━━━━━━━━━\u001b[0m\u001b[37m\u001b[0m \u001b[1m0s\u001b[0m 4ms/step - categorical_accuracy: 0.7975 - loss: 1.0457 \n",
            "Epoch 69/80\n",
            "\u001b[1m8/8\u001b[0m \u001b[32m━━━━━━━━━━━━━━━━━━━━\u001b[0m\u001b[37m\u001b[0m \u001b[1m0s\u001b[0m 4ms/step - categorical_accuracy: 0.7740 - loss: 1.0210 \n",
            "Epoch 70/80\n",
            "\u001b[1m8/8\u001b[0m \u001b[32m━━━━━━━━━━━━━━━━━━━━\u001b[0m\u001b[37m\u001b[0m \u001b[1m0s\u001b[0m 6ms/step - categorical_accuracy: 0.7805 - loss: 1.0581 \n",
            "Epoch 71/80\n",
            "\u001b[1m8/8\u001b[0m \u001b[32m━━━━━━━━━━━━━━━━━━━━\u001b[0m\u001b[37m\u001b[0m \u001b[1m0s\u001b[0m 5ms/step - categorical_accuracy: 0.7512 - loss: 1.0556 \n",
            "Epoch 72/80\n",
            "\u001b[1m8/8\u001b[0m \u001b[32m━━━━━━━━━━━━━━━━━━━━\u001b[0m\u001b[37m\u001b[0m \u001b[1m0s\u001b[0m 5ms/step - categorical_accuracy: 0.7305 - loss: 1.0521 \n",
            "Epoch 73/80\n",
            "\u001b[1m8/8\u001b[0m \u001b[32m━━━━━━━━━━━━━━━━━━━━\u001b[0m\u001b[37m\u001b[0m \u001b[1m0s\u001b[0m 6ms/step - categorical_accuracy: 0.7675 - loss: 1.0304 \n",
            "Epoch 74/80\n",
            "\u001b[1m8/8\u001b[0m \u001b[32m━━━━━━━━━━━━━━━━━━━━\u001b[0m\u001b[37m\u001b[0m \u001b[1m0s\u001b[0m 5ms/step - categorical_accuracy: 0.7618 - loss: 0.9803 \n",
            "Epoch 75/80\n",
            "\u001b[1m8/8\u001b[0m \u001b[32m━━━━━━━━━━━━━━━━━━━━\u001b[0m\u001b[37m\u001b[0m \u001b[1m0s\u001b[0m 5ms/step - categorical_accuracy: 0.6990 - loss: 1.0409 \n",
            "Epoch 76/80\n",
            "\u001b[1m8/8\u001b[0m \u001b[32m━━━━━━━━━━━━━━━━━━━━\u001b[0m\u001b[37m\u001b[0m \u001b[1m0s\u001b[0m 5ms/step - categorical_accuracy: 0.7483 - loss: 1.0117 \n",
            "Epoch 77/80\n",
            "\u001b[1m8/8\u001b[0m \u001b[32m━━━━━━━━━━━━━━━━━━━━\u001b[0m\u001b[37m\u001b[0m \u001b[1m0s\u001b[0m 4ms/step - categorical_accuracy: 0.7526 - loss: 0.9907 \n",
            "Epoch 78/80\n",
            "\u001b[1m8/8\u001b[0m \u001b[32m━━━━━━━━━━━━━━━━━━━━\u001b[0m\u001b[37m\u001b[0m \u001b[1m0s\u001b[0m 4ms/step - categorical_accuracy: 0.7697 - loss: 0.9832 \n",
            "Epoch 79/80\n",
            "\u001b[1m8/8\u001b[0m \u001b[32m━━━━━━━━━━━━━━━━━━━━\u001b[0m\u001b[37m\u001b[0m \u001b[1m0s\u001b[0m 5ms/step - categorical_accuracy: 0.7995 - loss: 0.9571 \n",
            "Epoch 80/80\n",
            "\u001b[1m8/8\u001b[0m \u001b[32m━━━━━━━━━━━━━━━━━━━━\u001b[0m\u001b[37m\u001b[0m \u001b[1m0s\u001b[0m 4ms/step - categorical_accuracy: 0.7901 - loss: 0.9489 \n"
          ]
        }
      ]
    },
    {
      "cell_type": "code",
      "source": [
        "# 5) Графики метрик обучения\n",
        "plt.plot(hist.history[\"loss\"], label=\"Loss\")\n",
        "plt.plot(hist.history[\"categorical_accuracy\"], label=\"categorical_accuracy\")\n",
        "plt.ylabel(\"Loss / Accuracy\")\n",
        "plt.xlabel(\"Epochs\")\n",
        "plt.legend()\n",
        "plt.show()"
      ],
      "metadata": {
        "colab": {
          "base_uri": "https://localhost:8080/",
          "height": 449
        },
        "id": "dckEw2N2srd_",
        "outputId": "f0f6d5de-e54b-4465-ec06-2be91aa034c8"
      },
      "execution_count": 11,
      "outputs": [
        {
          "output_type": "display_data",
          "data": {
            "text/plain": [
              "<Figure size 640x480 with 1 Axes>"
            ],
            "image/png": "[encoded data removed]"
          },
          "metadata": {}
        }
      ]
    },
    {
      "cell_type": "code",
      "source": [
        "# 6) Оценка на тестовой выборке\n",
        "loss, acc = model.evaluate(xTest, yTest, verbose=0)\n",
        "print(f\"\\nОценка на тестовой выборке: loss = {loss:.4f}, categorical_accuracy = {acc:.4f}\\n\")"
      ],
      "metadata": {
        "colab": {
          "base_uri": "https://localhost:8080/"
        },
        "id": "jxDuy2-CsxCr",
        "outputId": "20bdb780-43e7-45b7-a1cc-d7fa710edf28"
      },
      "execution_count": 12,
      "outputs": [
        {
          "output_type": "stream",
          "name": "stdout",
          "text": [
            "\n",
            "Оценка на тестовой выборке: loss = 0.9652, categorical_accuracy = 0.7500\n",
            "\n"
          ]
        }
      ]
    },
    {
      "cell_type": "code",
      "source": [
        "# 7) Проверка каждого тестового примера, подсчёт верных\n",
        "match = 0\n",
        "print(\"Детальные предсказания:\")\n",
        "for i in range(len(xTest)):\n",
        "    x = xTest[i]\n",
        "    y_true = yTest[i]\n",
        "    yPred = model.predict(x.reshape(1, -1), verbose=0)\n",
        "    pred_idx = np.argmax(yPred)\n",
        "    true_idx = np.argmax(y_true)\n",
        "    print(f\"  Предсказано: {ohe.categories_[0][pred_idx]}  ;  Истинно: {ohe.categories_[0][true_idx]}\")\n",
        "    if pred_idx == true_idx:\n",
        "        match += 1\n",
        "print(f\"\\nВерно распознано {match} из {len(xTest)} тестовых образцов.\")"
      ],
      "metadata": {
        "colab": {
          "base_uri": "https://localhost:8080/"
        },
        "id": "1StPkx6Ds3Ds",
        "outputId": "fabc102f-a4af-4b10-9570-8480856d0e1a"
      },
      "execution_count": 13,
      "outputs": [
        {
          "output_type": "stream",
          "name": "stdout",
          "text": [
            "Детальные предсказания:\n",
            "  Предсказано: Gr1  ;  Истинно: Gr1\n",
            "  Предсказано: Gr4  ;  Истинно: Gr4\n",
            "  Предсказано: Gr2  ;  Истинно: Gr2\n",
            "  Предсказано: Gr4  ;  Истинно: Gr3\n",
            "  Предсказано: Gr4  ;  Истинно: Gr4\n",
            "  Предсказано: Gr2  ;  Истинно: Gr2\n",
            "  Предсказано: Gr4  ;  Истинно: Gr3\n",
            "  Предсказано: Gr1  ;  Истинно: Gr1\n",
            "  Предсказано: Gr1  ;  Истинно: Gr1\n",
            "  Предсказано: Gr4  ;  Истинно: Gr4\n",
            "  Предсказано: Gr2  ;  Истинно: Gr2\n",
            "  Предсказано: Gr4  ;  Истинно: Gr4\n",
            "  Предсказано: Gr2  ;  Истинно: Gr2\n",
            "  Предсказано: Gr2  ;  Истинно: Gr2\n",
            "  Предсказано: Gr1  ;  Истинно: Gr1\n",
            "  Предсказано: Gr4  ;  Истинно: Gr3\n",
            "  Предсказано: Gr2  ;  Истинно: Gr2\n",
            "  Предсказано: Gr4  ;  Истинно: Gr4\n",
            "  Предсказано: Gr4  ;  Истинно: Gr3\n",
            "  Предсказано: Gr4  ;  Истинно: Gr3\n",
            "  Предсказано: Gr1  ;  Истинно: Gr1\n",
            "  Предсказано: Gr1  ;  Истинно: Gr1\n",
            "  Предсказано: Gr4  ;  Истинно: Gr3\n",
            "  Предсказано: Gr4  ;  Истинно: Gr4\n",
            "\n",
            "Верно распознано 18 из 24 тестовых образцов.\n"
          ]
        }
      ]
    },
    {
      "cell_type": "code",
      "source": [
        "# 8) Сохранение\n",
        "model.save(\"/mnt/data/variant24_model.h5\")\n",
        "pd.DataFrame(df).to_csv(\"/mnt/data/variant24_data.csv\", index=False)\n",
        "print(\"\\nФайлы сохранены: /mnt/data/variant24_model.h5 и /mnt/data/variant24_data.csv\")\n"
      ],
      "metadata": {
        "colab": {
          "base_uri": "https://localhost:8080/"
        },
        "id": "DmDQCwPZlMSR",
        "outputId": "1435e9a5-3e89-4772-bb1d-0ecea7844168"
      },
      "execution_count": 14,
      "outputs": [
        {
          "output_type": "stream",
          "name": "stderr",
          "text": [
            "WARNING:absl:You are saving your model as an HDF5 file via `model.save()` or `keras.saving.save_model(model)`. This file format is considered legacy. We recommend using instead the native Keras format, e.g. `model.save('my_model.keras')` or `keras.saving.save_model(model, 'my_model.keras')`. \n"
          ]
        },
        {
          "output_type": "stream",
          "name": "stdout",
          "text": [
            "\n",
            "Файлы сохранены: /mnt/data/variant24_model.h5 и /mnt/data/variant24_data.csv\n"
          ]
        }
      ]
    }
  ]
}