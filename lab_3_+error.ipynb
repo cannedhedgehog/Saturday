{
  "nbformat": 4,
  "nbformat_minor": 0,
  "metadata": {
    "colab": {
      "provenance": [],
      "authorship_tag": "ABX9TyOH+yMymUIpW2XURzmY5zut",
      "include_colab_link": true
    },
    "kernelspec": {
      "name": "python3",
      "display_name": "Python 3"
    },
    "language_info": {
      "name": "python"
    }
  },
  "cells": [
    {
      "cell_type": "markdown",
      "metadata": {
        "id": "view-in-github",
        "colab_type": "text"
      },
      "source": [
        "<a href=\"https://colab.research.google.com/github/cannedhedgehog/Saturday/blob/main/lab_3_%2Berror.ipynb\" target=\"_parent\"><img src=\"https://colab.research.google.com/assets/colab-badge.svg\" alt=\"Open In Colab\"/></a>"
      ]
    },
    {
      "cell_type": "code",
      "source": [
        "import numpy as np"
      ],
      "metadata": {
        "id": "zU9tEo4Wfef3"
      },
      "execution_count": null,
      "outputs": []
    },
    {
      "cell_type": "code",
      "source": [
        "def sigmoid(x):\n",
        "    \"\"\"Сигмоидная функция активации.\"\"\"\n",
        "    return 1 / (1 + np.exp(-x))"
      ],
      "metadata": {
        "id": "sJhHMkUuffln"
      },
      "execution_count": null,
      "outputs": []
    },
    {
      "cell_type": "code",
      "source": [
        "def sigmoid_derivative(x):\n",
        "    \"\"\"Производная сигмоидной функции.\"\"\"\n",
        "    return x * (1 - x)"
      ],
      "metadata": {
        "id": "ZVGBFbr2fiRP"
      },
      "execution_count": null,
      "outputs": []
    },
    {
      "cell_type": "code",
      "source": [
        "class NeuralNetwork:\n",
        "    def __init__(self, input_size, hidden_size):\n",
        "        \"\"\"\n",
        "        Конструктор нейронной сети.\n",
        "\n",
        "        :param input_size: Количество входных нейронов\n",
        "        :param hidden_size: Количество нейронов в скрытом слое\n",
        "        \"\"\"\n",
        "        self.input_size = input_size\n",
        "        self.hidden_size = hidden_size\n",
        "\n",
        "        # Инициализация весов с нормальным распределением\n",
        "        self.weights_input_hidden = np.random.randn(input_size, hidden_size)\n",
        "        self.weights_hidden_output = np.random.randn(hidden_size, 1)\n",
        "\n",
        "        # Инициализация смещений нулями\n",
        "        self.bias_hidden = np.zeros((1, hidden_size))\n",
        "        self.bias_output = np.zeros((1, 1))\n",
        "\n",
        "    def feedforward(self, X):\n",
        "        \"\"\"Прямое распространение (forward pass).\"\"\"\n",
        "        # Скрытый слой\n",
        "        self.hidden_input = np.dot(X, self.weights_input_hidden) + self.bias_hidden\n",
        "        self.hidden_output = sigmoid(self.hidden_input)\n",
        "\n",
        "        # Выходной слой\n",
        "        self.final_input = np.dot(self.hidden_output, self.weights_hidden_output) + self.bias_output\n",
        "        return sigmoid(self.final_input)\n",
        "\n",
        "    def train(self, X, y, epochs=1000, lr=0.1, print_every=100):\n",
        "        \"\"\"\n",
        "        Обучение нейронной сети.\n",
        "\n",
        "        :param X: Входные данные\n",
        "        :param y: Целевые значения\n",
        "        :param epochs: Количество эпох\n",
        "        :param lr: Скорость обучения\n",
        "        :param print_every: Частота вывода ошибки\n",
        "        \"\"\"\n",
        "        loss_history = []\n",
        "\n",
        "        for epoch in range(epochs):\n",
        "            # Forward pass\n",
        "            output = self.feedforward(X)\n",
        "\n",
        "            # Расчет ошибки\n",
        "            error = y - output\n",
        "            loss = np.mean(error ** 2)  # MSE\n",
        "\n",
        "            # Сохранение ошибки для истории\n",
        "            loss_history.append(loss)\n",
        "\n",
        "            # Вывод ошибки\n",
        "            if epoch % print_every == 0 or epoch == epochs - 1:\n",
        "                print(f\"Epoch {epoch:5d} | Loss: {loss:.6f}\")\n",
        "\n",
        "            # Backpropagation\n",
        "            d_output = error * sigmoid_derivative(output)\n",
        "            error_hidden = d_output.dot(self.weights_hidden_output.T)\n",
        "            d_hidden = error_hidden * sigmoid_derivative(self.hidden_output)\n",
        "\n",
        "            # Обновление параметров\n",
        "            self.weights_hidden_output += self.hidden_output.T.dot(d_output) * lr\n",
        "            self.weights_input_hidden += X.T.dot(d_hidden) * lr\n",
        "            self.bias_output += np.sum(d_output, axis=0, keepdims=True) * lr\n",
        "            self.bias_hidden += np.sum(d_hidden, axis=0, keepdims=True) * lr"
      ],
      "metadata": {
        "id": "VuykD3vGfjEf"
      },
      "execution_count": null,
      "outputs": []
    },
    {
      "cell_type": "code",
      "source": [
        "# Создаем датасет XOR\n",
        "X = np.array([[0, 0], [0, 1], [1, 0], [1, 1]])\n",
        "y = np.array([[0], [1], [1], [0]])"
      ],
      "metadata": {
        "id": "n4d7IFyHfpRX"
      },
      "execution_count": null,
      "outputs": []
    },
    {
      "cell_type": "code",
      "source": [
        "# Инициализация и обучение сети\n",
        "nn = NeuralNetwork(input_size=2, hidden_size=4)\n",
        "nn.train(X, y, epochs=5000, lr=0.1, print_every=500)"
      ],
      "metadata": {
        "colab": {
          "base_uri": "https://localhost:8080/"
        },
        "id": "IvWmM4gvfrE2",
        "outputId": "b2d455c3-a1d8-47f3-8b10-98119488a062"
      },
      "execution_count": null,
      "outputs": [
        {
          "output_type": "stream",
          "name": "stdout",
          "text": [
            "Epoch     0 | Loss: 0.348775\n",
            "Epoch   500 | Loss: 0.250222\n",
            "Epoch  1000 | Loss: 0.250052\n",
            "Epoch  1500 | Loss: 0.249928\n",
            "Epoch  2000 | Loss: 0.249780\n",
            "Epoch  2500 | Loss: 0.249496\n",
            "Epoch  3000 | Loss: 0.248739\n",
            "Epoch  3500 | Loss: 0.246061\n",
            "Epoch  4000 | Loss: 0.235270\n",
            "Epoch  4500 | Loss: 0.196397\n",
            "Epoch  4999 | Loss: 0.109292\n"
          ]
        }
      ]
    },
    {
      "cell_type": "code",
      "source": [
        "# Проверка результатов\n",
        "print(\"\\nТестирование обученной сети:\")\n",
        "for i, (input_data, target) in enumerate(zip(X, y)):\n",
        "    prediction = nn.feedforward(input_data)\n",
        "    print(f\"Вход: {input_data} | Ожидаемый: {target[0]} | Предсказанный: {prediction[0][0]:.4f}\")"
      ],
      "metadata": {
        "colab": {
          "base_uri": "https://localhost:8080/"
        },
        "id": "MiFd57cWftfH",
        "outputId": "35f4332e-9709-4a99-8bee-c466b4e0186e"
      },
      "execution_count": null,
      "outputs": [
        {
          "output_type": "stream",
          "name": "stdout",
          "text": [
            "\n",
            "Тестирование обученной сети:\n",
            "Вход: [0 0] | Ожидаемый: 0 | Предсказанный: 0.2481\n",
            "Вход: [0 1] | Ожидаемый: 1 | Предсказанный: 0.6848\n",
            "Вход: [1 0] | Ожидаемый: 1 | Предсказанный: 0.6676\n",
            "Вход: [1 1] | Ожидаемый: 0 | Предсказанный: 0.4063\n"
          ]
        }
      ]
    }
  ]
}